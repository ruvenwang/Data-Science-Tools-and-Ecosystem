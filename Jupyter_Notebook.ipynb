{
 "cells": [
  {
   "cell_type": "markdown",
   "metadata": {},
   "source": [
    "<center>\n",
    "    <img src=\"https://cf-courses-data.s3.us.cloud-object-storage.appdomain.cloud/IBMDeveloperSkillsNetwork-DS0105EN-SkillsNetwork/labs/Module2/images/SN_web_lightmode.png\" width=\"300\" alt=\"cognitiveclass.ai logo\">\n",
    "</center>\n"
   ]
  },
  {
   "cell_type": "markdown",
   "metadata": {},
   "source": [
    "# Hands-on Lab: Create your Jupyter Notebook\n"
   ]
  },
  {
   "cell_type": "markdown",
   "metadata": {},
   "source": [
    "#### Add your code below following the instructions given in the course\n"
   ]
  },
  {
   "cell_type": "markdown",
   "metadata": {},
   "source": [
    "# Data Science Tools and Ecosystem"
   ]
  },
  {
   "cell_type": "markdown",
   "metadata": {},
   "source": [
    "#### In this notebook, Data Science Tools and Ecosystem are summarized."
   ]
  },
  {
   "cell_type": "markdown",
   "metadata": {},
   "source": [
    "**Objectives:**\n",
    "* Evaluate arithmetic expressions in Python.\n",
    "* Convert units of measurement using Python.\n",
    "* Understand the basic syntax of Python.\n",
    "* Perform simple mathematical operations."
   ]
  },
  {
   "cell_type": "markdown",
   "metadata": {},
   "source": [
    "#### Some of the popular languages that Data Scientists use are:"
   ]
  },
  {
   "cell_type": "markdown",
   "metadata": {},
   "source": [
    "1. **Python:** Known for its simplicity and versatility, Python is widely used for data analysis, machine learning, and data visualization. \n",
    "2. **R:** Specifically designed for statistical computing and data analysis, R is a powerful tool for data scientists.\n",
    "3. **SQL:** Essential for working with relational databases, SQL is used for data extraction, transformation, and loading (ETL) processes.\n",
    "4. **Julia:** A high-performance language for numerical computing and data science.\n",
    "5. **Scala:** A functional programming language that integrates well with the Java ecosystem."
   ]
  },
  {
   "cell_type": "markdown",
   "metadata": {},
   "source": [
    "#### Some of the commonly used libraries used by Data Scientists include:"
   ]
  },
  {
   "cell_type": "markdown",
   "metadata": {},
   "source": [
    "1. **NumPy:** Fundamental package for numerical computing (Python)\n",
    "2. **Pandas:** Data analysis and manipulation tool (Python)\n",
    "3. **Scikit-learn:** Machine learning library (Python)\n",
    "4. **TensorFlow:** Deep learning framework (Python)\n",
    "5. **PyTorch:** Deep learning framework (Python)\n",
    "6. **dplyr:** Data manipulation (R)\n",
    "7. **tidyr:** Data tidying (R)\n",
    "8. **ggplot2:** Data visualization (R)\n",
    "9. **caret:** Machine learning (R)\n",
    "10. **Flux.jl** Machine learning (Julia)\n",
    "11. **DataFrames.jl** Data analysis and manipulation (Julia)\n",
    "12. **Plots.jl** Data visualization (Julia)\n",
    "13. **MLlib** Machine learning library (Scala)\n",
    "15. **Apache Spark** Big data processing (Scala)"
   ]
  },
  {
   "cell_type": "markdown",
   "metadata": {},
   "source": [
    "| Data Science Tools | Description |\n",
    "|---|---|\n",
    "| Jupyter Notebook | Interactive web-based notebook environment |\n",
    "| RStudio | Integrated Development Environment (IDE) for R |\n",
    "| VS Code | Versatile code editor with numerous extensions for data science |"
   ]
  },
  {
   "cell_type": "markdown",
   "metadata": {},
   "source": [
    "### Below are a few examples of evaluating arithmetic expressions in Python."
   ]
  },
  {
   "cell_type": "code",
   "execution_count": 32,
   "metadata": {},
   "outputs": [
    {
     "data": {
      "text/plain": [
       "17"
      ]
     },
     "execution_count": 32,
     "metadata": {},
     "output_type": "execute_result"
    }
   ],
   "source": [
    "# This is a simple arithmetic expression to multiply then add integers.\n",
    "(3 * 4) + 5"
   ]
  },
  {
   "cell_type": "code",
   "execution_count": 48,
   "metadata": {},
   "outputs": [],
   "source": [
    "# This will convert 200 minutes to hours by dividing by 60.\n",
    "def minutes_to_hours(minutes):\n",
    "    hours = minutes/60\n",
    "    return hours"
   ]
  },
  {
   "cell_type": "code",
   "execution_count": 50,
   "metadata": {},
   "outputs": [
    {
     "data": {
      "text/plain": [
       "3.3333333333333335"
      ]
     },
     "execution_count": 50,
     "metadata": {},
     "output_type": "execute_result"
    }
   ],
   "source": [
    "minutes_to_hours(200)"
   ]
  },
  {
   "cell_type": "markdown",
   "metadata": {},
   "source": [
    "## Author\n",
    "[Ruven Wang]\n"
   ]
  },
  {
   "cell_type": "markdown",
   "metadata": {},
   "source": [
    "Copyright ©2024 IBM Corporation. All rights reserved.\n"
   ]
  }
 ],
 "metadata": {
  "kernelspec": {
   "display_name": "Python 3 (ipykernel)",
   "language": "python",
   "name": "python3"
  },
  "language_info": {
   "codemirror_mode": {
    "name": "ipython",
    "version": 3
   },
   "file_extension": ".py",
   "mimetype": "text/x-python",
   "name": "python",
   "nbconvert_exporter": "python",
   "pygments_lexer": "ipython3",
   "version": "3.11.7"
  },
  "prev_pub_hash": "9e1985db9844176462bd1d5863048c9f3d17404bbc6a648be9084b0c42b29347"
 },
 "nbformat": 4,
 "nbformat_minor": 4
}
